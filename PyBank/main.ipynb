{
 "cells": [
  {
   "cell_type": "code",
   "execution_count": 461,
   "metadata": {},
   "outputs": [],
   "source": [
    "#Importing a file \n",
    "from pathlib import Path\n",
    "import csv"
   ]
  },
  {
   "cell_type": "code",
   "execution_count": 462,
   "metadata": {},
   "outputs": [
    {
     "data": {
      "text/plain": [
       "PosixPath('/Users/Lidiya/Desktop/python-homework/PyBank')"
      ]
     },
     "execution_count": 462,
     "metadata": {},
     "output_type": "execute_result"
    }
   ],
   "source": [
    "Path.cwd()"
   ]
  },
  {
   "cell_type": "code",
   "execution_count": 463,
   "metadata": {},
   "outputs": [],
   "source": [
    "#setting the path\n",
    "csvpath = Path('budget_data.csv')"
   ]
  },
  {
   "cell_type": "code",
   "execution_count": 464,
   "metadata": {},
   "outputs": [],
   "source": [
    "#setting strings:\n",
    "date = []\n",
    "profit_loss = []\n",
    "monthly_change = []"
   ]
  },
  {
   "cell_type": "code",
   "execution_count": 465,
   "metadata": {},
   "outputs": [],
   "source": [
    "#setting variables: \n",
    "total = 0\n",
    "total_profit = 0\n",
    "total_change_profits = 0\n",
    "primary_profit = 0"
   ]
  },
  {
   "cell_type": "code",
   "execution_count": 466,
   "metadata": {},
   "outputs": [
    {
     "name": "stdout",
     "output_type": "stream",
     "text": [
      "Total number of months is 86\n",
      "Total: $38382578\n",
      "Average Change: $-2315.12\n",
      "Greatest increase in Revenue: Feb-2012 ($1926159)\n",
      "Greatest decrease in Revenue: Sep-2013 ($-2196167)\n"
     ]
    }
   ],
   "source": [
    "with open(csvpath, 'r') as csvfile:\n",
    "    csvreader = csv.reader(csvfile, delimiter=',')\n",
    "    header = next(csvreader)\n",
    "    first_row = next(csvreader)\n",
    "    total += 1\n",
    "    primary_profit = int(first_row[1])\n",
    "    total_profit += int(first_row[1])\n",
    "    \n",
    "   \n",
    "    #READ EACH ROW DATA AFTER A HEADER: \n",
    "    for row in csvreader:\n",
    "        total += 1 #counting the number of months \n",
    "\n",
    "# Append the row profit/losses and date values to lists of itemes \n",
    "        date.append(row[0])\n",
    "        \n",
    "        profit_loss.append(row[1])\n",
    "        total_profit += int(row[1]) #calculating total profit_losses \n",
    "        \n",
    "        \n",
    "#Finding an average of the changes in Profit/Losses over the entire period.        \n",
    "        final_profit = int(row[1])\n",
    "        monthly_change_profits = final_profit - primary_profit\n",
    "    \n",
    "#creating list\n",
    "        monthly_change.append(monthly_change_profits)\n",
    "    \n",
    "        total_change_profits +=  monthly_change_profits\n",
    "        primary_profit = final_profit\n",
    "\n",
    "#Calculate an average in profits\n",
    "        average_change_profits = round((total_change_profits)/(total-1), 2)\n",
    "    \n",
    "# maximum and minimum change in profits\n",
    "        greatest_increase_profits = max(monthly_change)\n",
    "        greatest_decrease_profits = min(monthly_change)\n",
    "\n",
    "        increase_date = date[monthly_change.index(greatest_increase_profits)]\n",
    "        decrease_date = date[monthly_change.index(greatest_decrease_profits)]\n",
    "\n",
    "\n",
    "print(f'Total number of months is {total}')\n",
    "print(f\"Total: ${total_profit}\")\n",
    "print(f'Average Change: ${average_change_profits}')  \n",
    "print(f'Greatest increase in Revenue: {increase_date} (${greatest_increase_profits})')\n",
    "print(f'Greatest decrease in Revenue: {decrease_date} (${greatest_decrease_profits})')\n"
   ]
  },
  {
   "cell_type": "code",
   "execution_count": 467,
   "metadata": {},
   "outputs": [
    {
     "data": {
      "text/plain": [
       "PosixPath('/Users/Lidiya/Desktop/python-homework/PyBank')"
      ]
     },
     "execution_count": 467,
     "metadata": {},
     "output_type": "execute_result"
    }
   ],
   "source": [
    "Path.cwd()"
   ]
  },
  {
   "cell_type": "code",
   "execution_count": 468,
   "metadata": {},
   "outputs": [],
   "source": [
    "outputh_path = \"output.txt\""
   ]
  },
  {
   "cell_type": "code",
   "execution_count": 469,
   "metadata": {},
   "outputs": [],
   "source": [
    "#open the .txt file as an object: \n",
    "with open(outputh_path, 'w') as textfile:\n",
    "    textfile.write(f'Total number of months is {total}.\\n')\n",
    "    textfile.write(f'Total: ${total_profit}.\\n')\n",
    "    textfile.write(f'Average Change: ${average_change_profits}.\\n')\n",
    "    textfile.write(f'Greatest increase in Revenue: {increase_date} (${greatest_increase_profits}).\\n')\n",
    "    textfile.write(f'Greatest decrease in Revenue: {decrease_date} (${greatest_decrease_profits})')"
   ]
  },
  {
   "cell_type": "code",
   "execution_count": null,
   "metadata": {},
   "outputs": [],
   "source": []
  },
  {
   "cell_type": "code",
   "execution_count": null,
   "metadata": {},
   "outputs": [],
   "source": []
  }
 ],
 "metadata": {
  "kernelspec": {
   "display_name": "Python 3",
   "language": "python",
   "name": "python3"
  },
  "language_info": {
   "codemirror_mode": {
    "name": "ipython",
    "version": 3
   },
   "file_extension": ".py",
   "mimetype": "text/x-python",
   "name": "python",
   "nbconvert_exporter": "python",
   "pygments_lexer": "ipython3",
   "version": "3.7.6"
  }
 },
 "nbformat": 4,
 "nbformat_minor": 4
}
